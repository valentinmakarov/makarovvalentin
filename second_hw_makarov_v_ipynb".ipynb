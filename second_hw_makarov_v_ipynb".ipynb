{
  "nbformat": 4,
  "nbformat_minor": 0,
  "metadata": {
    "colab": {
      "provenance": [],
      "include_colab_link": true
    },
    "kernelspec": {
      "name": "python3",
      "display_name": "Python 3"
    },
    "language_info": {
      "name": "python"
    }
  },
  "cells": [
    {
      "cell_type": "markdown",
      "metadata": {
        "id": "view-in-github",
        "colab_type": "text"
      },
      "source": [
        "<a href=\"https://colab.research.google.com/github/valentinmakarov/makarovvalentin/blob/main/second_hw_makarov_v_ipynb%22.ipynb\" target=\"_parent\"><img src=\"https://colab.research.google.com/assets/colab-badge.svg\" alt=\"Open In Colab\"/></a>"
      ]
    },
    {
      "cell_type": "markdown",
      "source": [
        "```\n",
        "Курс \"Компьютерная лингвистика\" | НИУ ВШЭ Санкт-Петербург\n",
        "2024 (c) В.И. Фирсанова\n",
        "```"
      ],
      "metadata": {
        "id": "L3F97I4CzxEw"
      }
    },
    {
      "cell_type": "markdown",
      "source": [
        "# Домашнее задание\n"
      ],
      "metadata": {
        "id": "chAGRqOnLNyA"
      }
    },
    {
      "cell_type": "markdown",
      "source": [
        "Представьте, что вы работаете аналитиком в проекте по разработке системы машинного перевода. Ваша команда создает систему машинного перевода на основе правил. Прежде чем ваши коллеги приступят к разработке системы, вам, как аналитику, нужно описать архитектуру будущей системы.\n",
        "\n",
        "Опишите структуру своей системы машинного перевода на основе правила в формате псевдокода, алгоритма или блок-схемы (на выбор). В процессе работы вам нужно будет ответить на следующие вопросы:\n",
        "\n",
        "+ Какую языковую пару обрабатывает ваша система?\n",
        "+ Какие виды анализа и предварительной обработки данных вы применяете?\n",
        "+ Какие языковые правила вам нужно описать?\n",
        "+ Как ваша система будет генерировать результат, т.е. перевод?\n",
        "\n",
        "Дополнительно попробуйте ответить на вопрос:\n",
        "\n",
        "+ Какие библиотеки NLP вы будете использовать?"
      ],
      "metadata": {
        "id": "H5rNupyNLWKr"
      }
    },
    {
      "cell_type": "markdown",
      "source": [
        "Наша система машинного перевода на основе правил обрабатывает пару *английский - русский*\n",
        "\n",
        "В нашей системе мы стараемся использовать билингвальный лексикон, учитывающий контекст, поскольку, как в русском, так и в английском присуствуют слова, которые  могут иметь несколько значений.\n",
        "\n",
        "Анализируем морфологию, поскольку для русского языка важно определить, что это за словоформа (а еще ведь есть и совпадающие), чтобы потом наиболее точно перевести на английский.\n",
        "\n",
        "Стоило бы, указать, что в английском довольно строгий порядок слов в предложении, в отличии от русского, поэтому можно было бы составить правила, расставляющие в английском тексте подлежащее на первое место, за ним сказуемое и дополнения.\n",
        "\n",
        "Возможно, поскольку в русском языке довольно много правил пунктуации, в правилах можно было бы указать списком из вводных слов, предлогов или предложных конструкций, перед которыми или после которых ставился бы знак препинания, для того чтобы это учитывать в процессе перевода.\n",
        "\n",
        "В процессе работы можно ограничиться библиотекой spacy, в которой можно осуществить все операции по предобработке и последующему анализу текста.\n",
        "\n",
        "**Алгоритм:**\n",
        "\n",
        "1) составляем двуязычный лексикон и определяемся с правилами (в том числе синтаксической и лексической трансформации)\n",
        "\n",
        "2) принимаем на вход текст пользователя\n",
        "\n",
        "3) проводим токенизацию\n",
        "\n",
        "4) проводим лемматизацию и морфологический анализ\n",
        "\n",
        "5) производим сопоставления токенов с информацией из лексикона, учитывая морфологию (например падеж и часть речи, чтобы избежать омонимии)\n",
        "\n",
        "6) учитываем составленные правила для синтаксиса + можно добавить синтаксический анализатор\n",
        "\n",
        "7) применяем синтаксические правила и осуществляем перенос\n",
        "\n",
        "8) генерация полученного переведённого текста\n",
        "\n",
        "9) важно, особенно на начальном этапе разработки, было бы еще добавить пункт с оценкой по метрикам получившегося перевода. Можно было бы оставить его только для создателей.\n",
        "\n",
        "10) вывод текста на экран пользователя: текста на исходном языке и целевом\n",
        "\n"
      ],
      "metadata": {
        "id": "zaGLW_WuW8V6"
      }
    },
    {
      "cell_type": "markdown",
      "source": [
        "Образец алгоритма\n",
        "\n",
        "```\n",
        "1. принимаем на вход текст пользователя\n",
        "...\n",
        "4. сегментация текста\n",
        "...\n",
        "7. лексический трансфер\n",
        "  7.1. ...\n",
        "  ...\n",
        "8. генерация слов\n",
        "9. вывод на экран перевода текста\n",
        "```"
      ],
      "metadata": {
        "id": "19MIhSKJlEjE"
      }
    },
    {
      "cell_type": "markdown",
      "source": [
        "Образец псевдокода\n",
        "\n",
        "```\n",
        "function analyze_text(text):\n",
        "    # использует SpaCy для частеречной разметки\n",
        "    analyzed_text = []\n",
        "    для каждого слова в тексте:\n",
        "        извлекаем тег\n",
        "        записываем в analyzed_text\n",
        "    return analyzed_text\n",
        "```"
      ],
      "metadata": {
        "id": "bpocxQA6kaHu"
      }
    },
    {
      "cell_type": "markdown",
      "source": [
        "Образец блок-схемы\n",
        "\n",
        "![image.png](data:image/png;base64,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)"
      ],
      "metadata": {
        "id": "6X56Wp-JlmxY"
      }
    }
  ]
}